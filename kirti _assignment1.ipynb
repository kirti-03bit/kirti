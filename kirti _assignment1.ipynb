{
 "cells": [
  {
   "cell_type": "code",
   "execution_count": 4,
   "id": "74986de3-b6ff-4c3f-8ed2-4b1d3955bb39",
   "metadata": {},
   "outputs": [
    {
     "name": "stdout",
     "output_type": "stream",
     "text": [
      "4 12 10 "
     ]
    }
   ],
   "source": [
    "a = [4,7,12,19,17,10]\n",
    "for val in a:\n",
    "    if val % 2 == 0:\n",
    "        print(val, end = \" \")\n",
    "        "
   ]
  },
  {
   "cell_type": "code",
   "execution_count": 1,
   "id": "25e6f21e-ede9-4417-a484-2fef5edc929c",
   "metadata": {},
   "outputs": [
    {
     "name": "stdout",
     "output_type": "stream",
     "text": [
      "Reversed String: dlroW olleH\n",
      "Reversed Words: olleH dlroW\n"
     ]
    }
   ],
   "source": [
    "# Creating a string\n",
    "original_string = \"Hello World\"\n",
    "\n",
    "# Reversing the entire string\n",
    "reversed_string = original_string[::-1]\n",
    "print(\"Reversed String:\", reversed_string)\n",
    "\n",
    "# Reversing each word in the string\n",
    "reversed_words = ' '.join([word[::-1] for word in original_string.split()])\n",
    "print(\"Reversed Words:\", reversed_words)"
   ]
  },
  {
   "cell_type": "code",
   "execution_count": null,
   "id": "ec32e828-b5fa-481c-9033-ef7925898bb3",
   "metadata": {},
   "outputs": [],
   "source": []
  }
 ],
 "metadata": {
  "kernelspec": {
   "display_name": "Python [conda env:base] *",
   "language": "python",
   "name": "conda-base-py"
  },
  "language_info": {
   "codemirror_mode": {
    "name": "ipython",
    "version": 3
   },
   "file_extension": ".py",
   "mimetype": "text/x-python",
   "name": "python",
   "nbconvert_exporter": "python",
   "pygments_lexer": "ipython3",
   "version": "3.12.7"
  }
 },
 "nbformat": 4,
 "nbformat_minor": 5
}
