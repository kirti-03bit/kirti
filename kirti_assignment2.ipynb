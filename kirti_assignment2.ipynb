{
 "cells": [
  {
   "cell_type": "code",
   "execution_count": null,
   "id": "5f9b1b67-745d-4812-a6ee-02aebf0a03aa",
   "metadata": {},
   "outputs": [],
   "source": [
    "!pip install pandas\n",
    "\n"
   ]
  },
  {
   "cell_type": "code",
   "execution_count": 1,
   "id": "2448d89f-2852-4ad7-becd-0e6378c361f2",
   "metadata": {},
   "outputs": [],
   "source": [
    "import pandas as pd"
   ]
  },
  {
   "cell_type": "code",
   "execution_count": 3,
   "id": "a4c74281-cca7-496d-b8dc-1e29f9883f6c",
   "metadata": {},
   "outputs": [],
   "source": [
    "import numpy as np"
   ]
  },
  {
   "cell_type": "code",
   "execution_count": 5,
   "id": "82159628-83da-4c75-bdb9-e66982a7f216",
   "metadata": {},
   "outputs": [],
   "source": [
    "data = {\n",
    "    'Visitor_ID': [f'V{1000 + i}' for i in range(20)],\n",
    "    'Name': ['ABHISHEK SANDEEP      ZADE     ', 'ARNAV AJAY DESHPANDE.. ', '.. .. ASHWINI LALCHAND MUNDAWARE/ ', 'GAYATRI SURESH GAIKWAD', 'HARSHADA GANESH CHAUDHARI',\n",
    "             'VAIBHAVI HARISHWAR PATIL', np.nan, 'VISHAKHA PUNDLIK JADHAV', 'YASH BHARAT SOLUNKE/', 'VIVEK SANTOSH KHANDWE',\n",
    "             'VISHAKHA PUNDLIK JADHAV', 'Tanushree chhanwal', 'Shruti jaiswal', 'Shriyash Sulakhe', 'YASH BHARAT SOLUNKE',\n",
    "             np.nan, 'ARNAV AJAY DESHPANDE', 'RUTUJA SANTOSH THOTE', 'ROHIT DILIP BILWAL', 'RITESH SHIVAJI BAIRAGI'],\n",
    "    'Age': [25, 23, 22, np.nan, 21, 25, 24, 24, 28, np.nan,\n",
    "            22, 23, 25, 27, 25, 30, 31, 26, 19, 19],\n",
    "    'Ticket_Price': [500, 750, 500, 1000, np.nan, 500, 700, 650, 750, 1000,\n",
    "                      500, 800, np.nan, 750, 500, 700, 900, 850, 750, np.nan],\n",
    "    'Check_In_Time': ['10:00 AM', '10:30 AM', '11:00 AM', '11:30 AM', np.nan,\n",
    "                       '10:00 AM', '12:00 PM', '12:30 PM', '01:00 PM', '01:30 PM',\n",
    "                       '11:00 AM', '02:00 PM', np.nan, '02:30 PM', '10:00 AM',\n",
    "                       '12:00 PM', '03:00 PM', '03:30 PM', '04:00 PM', np.nan],\n",
    "    'City':['Delhi','Aurangabad', 'Mumbai','Bombay','New Delhi','NDL','Chennai','Chenai','Chennaai','Bangalore',\n",
    "            'Delhi','Pune', 'New Delhi','Bombay','New Delhi','NDL','Indore','Bangalore','Ujjain','Bangalore'],\n",
    "    'State': ['Delhi','Maharastra', 'Maharastra','Maharastra','Delhi','Delhi','Tamilnadu','Tamilnadu','Tamilnadu','Karnataka',\n",
    "            'Delhi','Maharastra', 'Delhi','Maharastra','Delhi','Delhi','Madhya Pradesh','Karnataka','Madhya Pradesh','Karnataka']\n",
    "}"
   ]
  },
  {
   "cell_type": "code",
   "execution_count": 7,
   "id": "53b9d16e-0f3e-4760-99fc-86f0575da5ad",
   "metadata": {},
   "outputs": [],
   "source": [
    "df = pd.DataFrame(data)"
   ]
  },
  {
   "cell_type": "code",
   "execution_count": 9,
   "id": "8da7b1f4-a028-411a-be89-8da2883a2f47",
   "metadata": {},
   "outputs": [
    {
     "name": "stdout",
     "output_type": "stream",
     "text": [
      "<class 'pandas.core.frame.DataFrame'>\n",
      "RangeIndex: 20 entries, 0 to 19\n",
      "Data columns (total 7 columns):\n",
      " #   Column         Non-Null Count  Dtype  \n",
      "---  ------         --------------  -----  \n",
      " 0   Visitor_ID     20 non-null     object \n",
      " 1   Name           18 non-null     object \n",
      " 2   Age            18 non-null     float64\n",
      " 3   Ticket_Price   17 non-null     float64\n",
      " 4   Check_In_Time  17 non-null     object \n",
      " 5   City           20 non-null     object \n",
      " 6   State          20 non-null     object \n",
      "dtypes: float64(2), object(5)\n",
      "memory usage: 1.2+ KB\n"
     ]
    }
   ],
   "source": [
    "df.info()"
   ]
  },
  {
   "cell_type": "code",
   "execution_count": 11,
   "id": "c5442cb8-8263-458d-b669-71eb1549d85d",
   "metadata": {},
   "outputs": [
    {
     "data": {
      "text/html": [
       "<div>\n",
       "<style scoped>\n",
       "    .dataframe tbody tr th:only-of-type {\n",
       "        vertical-align: middle;\n",
       "    }\n",
       "\n",
       "    .dataframe tbody tr th {\n",
       "        vertical-align: top;\n",
       "    }\n",
       "\n",
       "    .dataframe thead th {\n",
       "        text-align: right;\n",
       "    }\n",
       "</style>\n",
       "<table border=\"1\" class=\"dataframe\">\n",
       "  <thead>\n",
       "    <tr style=\"text-align: right;\">\n",
       "      <th></th>\n",
       "      <th>Visitor_ID</th>\n",
       "      <th>Name</th>\n",
       "      <th>Age</th>\n",
       "      <th>Ticket_Price</th>\n",
       "      <th>Check_In_Time</th>\n",
       "      <th>City</th>\n",
       "      <th>State</th>\n",
       "    </tr>\n",
       "  </thead>\n",
       "  <tbody>\n",
       "    <tr>\n",
       "      <th>0</th>\n",
       "      <td>V1000</td>\n",
       "      <td>ABHISHEK SANDEEP      ZADE</td>\n",
       "      <td>25.0</td>\n",
       "      <td>500.0</td>\n",
       "      <td>10:00 AM</td>\n",
       "      <td>Delhi</td>\n",
       "      <td>Delhi</td>\n",
       "    </tr>\n",
       "    <tr>\n",
       "      <th>1</th>\n",
       "      <td>V1001</td>\n",
       "      <td>ARNAV AJAY DESHPANDE..</td>\n",
       "      <td>23.0</td>\n",
       "      <td>750.0</td>\n",
       "      <td>10:30 AM</td>\n",
       "      <td>Aurangabad</td>\n",
       "      <td>Maharastra</td>\n",
       "    </tr>\n",
       "    <tr>\n",
       "      <th>2</th>\n",
       "      <td>V1002</td>\n",
       "      <td>.. .. ASHWINI LALCHAND MUNDAWARE/</td>\n",
       "      <td>22.0</td>\n",
       "      <td>500.0</td>\n",
       "      <td>11:00 AM</td>\n",
       "      <td>Mumbai</td>\n",
       "      <td>Maharastra</td>\n",
       "    </tr>\n",
       "    <tr>\n",
       "      <th>3</th>\n",
       "      <td>V1003</td>\n",
       "      <td>GAYATRI SURESH GAIKWAD</td>\n",
       "      <td>NaN</td>\n",
       "      <td>1000.0</td>\n",
       "      <td>11:30 AM</td>\n",
       "      <td>Bombay</td>\n",
       "      <td>Maharastra</td>\n",
       "    </tr>\n",
       "    <tr>\n",
       "      <th>4</th>\n",
       "      <td>V1004</td>\n",
       "      <td>HARSHADA GANESH CHAUDHARI</td>\n",
       "      <td>21.0</td>\n",
       "      <td>NaN</td>\n",
       "      <td>NaN</td>\n",
       "      <td>New Delhi</td>\n",
       "      <td>Delhi</td>\n",
       "    </tr>\n",
       "  </tbody>\n",
       "</table>\n",
       "</div>"
      ],
      "text/plain": [
       "  Visitor_ID                                Name   Age  Ticket_Price  \\\n",
       "0      V1000     ABHISHEK SANDEEP      ZADE       25.0         500.0   \n",
       "1      V1001             ARNAV AJAY DESHPANDE..   23.0         750.0   \n",
       "2      V1002  .. .. ASHWINI LALCHAND MUNDAWARE/   22.0         500.0   \n",
       "3      V1003              GAYATRI SURESH GAIKWAD   NaN        1000.0   \n",
       "4      V1004           HARSHADA GANESH CHAUDHARI  21.0           NaN   \n",
       "\n",
       "  Check_In_Time        City       State  \n",
       "0      10:00 AM       Delhi       Delhi  \n",
       "1      10:30 AM  Aurangabad  Maharastra  \n",
       "2      11:00 AM      Mumbai  Maharastra  \n",
       "3      11:30 AM      Bombay  Maharastra  \n",
       "4           NaN   New Delhi       Delhi  "
      ]
     },
     "execution_count": 11,
     "metadata": {},
     "output_type": "execute_result"
    }
   ],
   "source": [
    "df.head(5)"
   ]
  },
  {
   "cell_type": "code",
   "execution_count": 13,
   "id": "54e81a0c-91c9-4e1e-810b-5660361fe090",
   "metadata": {},
   "outputs": [
    {
     "data": {
      "text/html": [
       "<div>\n",
       "<style scoped>\n",
       "    .dataframe tbody tr th:only-of-type {\n",
       "        vertical-align: middle;\n",
       "    }\n",
       "\n",
       "    .dataframe tbody tr th {\n",
       "        vertical-align: top;\n",
       "    }\n",
       "\n",
       "    .dataframe thead th {\n",
       "        text-align: right;\n",
       "    }\n",
       "</style>\n",
       "<table border=\"1\" class=\"dataframe\">\n",
       "  <thead>\n",
       "    <tr style=\"text-align: right;\">\n",
       "      <th></th>\n",
       "      <th>Visitor_ID</th>\n",
       "      <th>Name</th>\n",
       "      <th>Age</th>\n",
       "      <th>Ticket_Price</th>\n",
       "      <th>Check_In_Time</th>\n",
       "      <th>City</th>\n",
       "      <th>State</th>\n",
       "    </tr>\n",
       "  </thead>\n",
       "  <tbody>\n",
       "    <tr>\n",
       "      <th>18</th>\n",
       "      <td>V1018</td>\n",
       "      <td>ROHIT DILIP BILWAL</td>\n",
       "      <td>19.0</td>\n",
       "      <td>750.0</td>\n",
       "      <td>04:00 PM</td>\n",
       "      <td>Ujjain</td>\n",
       "      <td>Madhya Pradesh</td>\n",
       "    </tr>\n",
       "    <tr>\n",
       "      <th>19</th>\n",
       "      <td>V1019</td>\n",
       "      <td>RITESH SHIVAJI BAIRAGI</td>\n",
       "      <td>19.0</td>\n",
       "      <td>NaN</td>\n",
       "      <td>NaN</td>\n",
       "      <td>Bangalore</td>\n",
       "      <td>Karnataka</td>\n",
       "    </tr>\n",
       "  </tbody>\n",
       "</table>\n",
       "</div>"
      ],
      "text/plain": [
       "   Visitor_ID                    Name   Age  Ticket_Price Check_In_Time  \\\n",
       "18      V1018      ROHIT DILIP BILWAL  19.0         750.0      04:00 PM   \n",
       "19      V1019  RITESH SHIVAJI BAIRAGI  19.0           NaN           NaN   \n",
       "\n",
       "         City           State  \n",
       "18     Ujjain  Madhya Pradesh  \n",
       "19  Bangalore       Karnataka  "
      ]
     },
     "execution_count": 13,
     "metadata": {},
     "output_type": "execute_result"
    }
   ],
   "source": [
    "# This Is For To Print Last Two Elements \n",
    "df.tail(2)"
   ]
  },
  {
   "cell_type": "code",
   "execution_count": 15,
   "id": "29d14991-14bd-4231-87d1-0b2e1bf1a2b9",
   "metadata": {},
   "outputs": [
    {
     "data": {
      "text/plain": [
       "(20, 7)"
      ]
     },
     "execution_count": 15,
     "metadata": {},
     "output_type": "execute_result"
    }
   ],
   "source": [
    "# This Is For TRo Print Size Of The data\n",
    "df.shape"
   ]
  },
  {
   "cell_type": "code",
   "execution_count": 17,
   "id": "e1ea7b43-6d2e-4a99-99cd-10016ff9dbc5",
   "metadata": {},
   "outputs": [
    {
     "data": {
      "text/plain": [
       "Visitor_ID        object\n",
       "Name              object\n",
       "Age              float64\n",
       "Ticket_Price     float64\n",
       "Check_In_Time     object\n",
       "City              object\n",
       "State             object\n",
       "dtype: object"
      ]
     },
     "execution_count": 17,
     "metadata": {},
     "output_type": "execute_result"
    }
   ],
   "source": [
    "#Print data Types \n",
    "df.dtypes"
   ]
  },
  {
   "cell_type": "code",
   "execution_count": 19,
   "id": "422a9ee4-702c-420a-89d6-20684cc8469b",
   "metadata": {},
   "outputs": [
    {
     "data": {
      "text/html": [
       "<div>\n",
       "<style scoped>\n",
       "    .dataframe tbody tr th:only-of-type {\n",
       "        vertical-align: middle;\n",
       "    }\n",
       "\n",
       "    .dataframe tbody tr th {\n",
       "        vertical-align: top;\n",
       "    }\n",
       "\n",
       "    .dataframe thead th {\n",
       "        text-align: right;\n",
       "    }\n",
       "</style>\n",
       "<table border=\"1\" class=\"dataframe\">\n",
       "  <thead>\n",
       "    <tr style=\"text-align: right;\">\n",
       "      <th></th>\n",
       "      <th>Age</th>\n",
       "      <th>Ticket_Price</th>\n",
       "    </tr>\n",
       "  </thead>\n",
       "  <tbody>\n",
       "    <tr>\n",
       "      <th>count</th>\n",
       "      <td>18.000000</td>\n",
       "      <td>17.000000</td>\n",
       "    </tr>\n",
       "    <tr>\n",
       "      <th>mean</th>\n",
       "      <td>24.388889</td>\n",
       "      <td>711.764706</td>\n",
       "    </tr>\n",
       "    <tr>\n",
       "      <th>std</th>\n",
       "      <td>3.292396</td>\n",
       "      <td>170.045409</td>\n",
       "    </tr>\n",
       "    <tr>\n",
       "      <th>min</th>\n",
       "      <td>19.000000</td>\n",
       "      <td>500.000000</td>\n",
       "    </tr>\n",
       "    <tr>\n",
       "      <th>25%</th>\n",
       "      <td>22.250000</td>\n",
       "      <td>500.000000</td>\n",
       "    </tr>\n",
       "    <tr>\n",
       "      <th>50%</th>\n",
       "      <td>24.500000</td>\n",
       "      <td>750.000000</td>\n",
       "    </tr>\n",
       "    <tr>\n",
       "      <th>75%</th>\n",
       "      <td>25.750000</td>\n",
       "      <td>800.000000</td>\n",
       "    </tr>\n",
       "    <tr>\n",
       "      <th>max</th>\n",
       "      <td>31.000000</td>\n",
       "      <td>1000.000000</td>\n",
       "    </tr>\n",
       "  </tbody>\n",
       "</table>\n",
       "</div>"
      ],
      "text/plain": [
       "             Age  Ticket_Price\n",
       "count  18.000000     17.000000\n",
       "mean   24.388889    711.764706\n",
       "std     3.292396    170.045409\n",
       "min    19.000000    500.000000\n",
       "25%    22.250000    500.000000\n",
       "50%    24.500000    750.000000\n",
       "75%    25.750000    800.000000\n",
       "max    31.000000   1000.000000"
      ]
     },
     "execution_count": 19,
     "metadata": {},
     "output_type": "execute_result"
    }
   ],
   "source": [
    "# For describing Data\n",
    "df.describe()"
   ]
  },
  {
   "cell_type": "code",
   "execution_count": 21,
   "id": "861fced6-2bfe-463d-96d1-83b9b6d0507a",
   "metadata": {},
   "outputs": [
    {
     "data": {
      "text/plain": [
       "<bound method DataFrame.drop_duplicates of    Visitor_ID                                Name   Age  Ticket_Price  \\\n",
       "0       V1000     ABHISHEK SANDEEP      ZADE       25.0         500.0   \n",
       "1       V1001             ARNAV AJAY DESHPANDE..   23.0         750.0   \n",
       "2       V1002  .. .. ASHWINI LALCHAND MUNDAWARE/   22.0         500.0   \n",
       "3       V1003              GAYATRI SURESH GAIKWAD   NaN        1000.0   \n",
       "4       V1004           HARSHADA GANESH CHAUDHARI  21.0           NaN   \n",
       "5       V1005            VAIBHAVI HARISHWAR PATIL  25.0         500.0   \n",
       "6       V1006                                 NaN  24.0         700.0   \n",
       "7       V1007             VISHAKHA PUNDLIK JADHAV  24.0         650.0   \n",
       "8       V1008                YASH BHARAT SOLUNKE/  28.0         750.0   \n",
       "9       V1009               VIVEK SANTOSH KHANDWE   NaN        1000.0   \n",
       "10      V1010             VISHAKHA PUNDLIK JADHAV  22.0         500.0   \n",
       "11      V1011                  Tanushree chhanwal  23.0         800.0   \n",
       "12      V1012                      Shruti jaiswal  25.0           NaN   \n",
       "13      V1013                    Shriyash Sulakhe  27.0         750.0   \n",
       "14      V1014                 YASH BHARAT SOLUNKE  25.0         500.0   \n",
       "15      V1015                                 NaN  30.0         700.0   \n",
       "16      V1016                ARNAV AJAY DESHPANDE  31.0         900.0   \n",
       "17      V1017                RUTUJA SANTOSH THOTE  26.0         850.0   \n",
       "18      V1018                  ROHIT DILIP BILWAL  19.0         750.0   \n",
       "19      V1019              RITESH SHIVAJI BAIRAGI  19.0           NaN   \n",
       "\n",
       "   Check_In_Time        City           State  \n",
       "0       10:00 AM       Delhi           Delhi  \n",
       "1       10:30 AM  Aurangabad      Maharastra  \n",
       "2       11:00 AM      Mumbai      Maharastra  \n",
       "3       11:30 AM      Bombay      Maharastra  \n",
       "4            NaN   New Delhi           Delhi  \n",
       "5       10:00 AM         NDL           Delhi  \n",
       "6       12:00 PM     Chennai       Tamilnadu  \n",
       "7       12:30 PM      Chenai       Tamilnadu  \n",
       "8       01:00 PM    Chennaai       Tamilnadu  \n",
       "9       01:30 PM   Bangalore       Karnataka  \n",
       "10      11:00 AM       Delhi           Delhi  \n",
       "11      02:00 PM        Pune      Maharastra  \n",
       "12           NaN   New Delhi           Delhi  \n",
       "13      02:30 PM      Bombay      Maharastra  \n",
       "14      10:00 AM   New Delhi           Delhi  \n",
       "15      12:00 PM         NDL           Delhi  \n",
       "16      03:00 PM      Indore  Madhya Pradesh  \n",
       "17      03:30 PM   Bangalore       Karnataka  \n",
       "18      04:00 PM      Ujjain  Madhya Pradesh  \n",
       "19           NaN   Bangalore       Karnataka  >"
      ]
     },
     "execution_count": 21,
     "metadata": {},
     "output_type": "execute_result"
    }
   ],
   "source": [
    "# For Drop The The Duplicates\n",
    "df.drop_duplicates"
   ]
  },
  {
   "cell_type": "code",
   "execution_count": 33,
   "id": "3f1393f3-499d-47a4-81e3-5c2ec894224b",
   "metadata": {},
   "outputs": [
    {
     "data": {
      "text/plain": [
       "<Axes: xlabel='Ticket_Price'>"
      ]
     },
     "execution_count": 33,
     "metadata": {},
     "output_type": "execute_result"
    },
    {
     "data": {
      "image/png": "[encoded data removed]",
      "text/plain": [
       "<Figure size 640x480 with 1 Axes>"
      ]
     },
     "metadata": {},
     "output_type": "display_data"
    }
   ],
   "source": [
    "# This Is For Displaying chart Bar\n",
    "df['Ticket_Price'].value_counts().plot(kind='bar')"
   ]
  },
  {
   "cell_type": "code",
   "execution_count": 35,
   "id": "4519ab75-337b-4812-9895-05b57decccb6",
   "metadata": {},
   "outputs": [],
   "source": [
    "import matplotlib.pyplot as plt\n"
   ]
  },
  {
   "cell_type": "code",
   "execution_count": 37,
   "id": "614bdefa-5a8a-4a3c-9bdf-208f03d3c775",
   "metadata": {},
   "outputs": [],
   "source": [
    "df = pd.DataFrame(data)"
   ]
  },
  {
   "cell_type": "code",
   "execution_count": 39,
   "id": "610c7ec8-dfcc-43b9-925f-20052a1d4f0b",
   "metadata": {},
   "outputs": [],
   "source": [
    "data = {\n",
    "    'Singer': ['Arijit Singh', 'Shreya Ghoshal', 'Sonu Nigam', 'Lata Mangeshkar', 'Kishore Kumar'],\n",
    "    'Years_Active': [15, 20, 30, 70, 40],\n",
    "    'Number_of_Songs': [500, 700, 600, 1000, 800],\n",
    "    'Awards_Won': [50, 60, 40, 100, 80]\n",
    "}"
   ]
  },
  {
   "cell_type": "code",
   "execution_count": 43,
   "id": "8c5ecd92-164d-4092-9531-75c1a9576591",
   "metadata": {},
   "outputs": [
    {
     "data": {
      "text/plain": [
       "<BarContainer object of 5 artists>"
      ]
     },
     "execution_count": 43,
     "metadata": {},
     "output_type": "execute_result"
    },
    {
     "data": {
      "image/png": "[encoded data removed]",
      "text/plain": [
       "<Figure size 640x480 with 1 Axes>"
      ]
     },
     "metadata": {},
     "output_type": "display_data"
    }
   ],
   "source": [
    "plt.bar(df['Singer'], df['Number_of_Songs'], color='lightgreen')\n"
   ]
  },
  {
   "cell_type": "code",
   "execution_count": null,
   "id": "c7ac4198-c9a1-403f-b21e-6fb28ba3d0de",
   "metadata": {},
   "outputs": [],
   "source": []
  }
 ],
 "metadata": {
  "kernelspec": {
   "display_name": "Python [conda env:base] *",
   "language": "python",
   "name": "conda-base-py"
  },
  "language_info": {
   "codemirror_mode": {
    "name": "ipython",
    "version": 3
   },
   "file_extension": ".py",
   "mimetype": "text/x-python",
   "name": "python",
   "nbconvert_exporter": "python",
   "pygments_lexer": "ipython3",
   "version": "3.12.7"
  }
 },
 "nbformat": 4,
 "nbformat_minor": 5
}
